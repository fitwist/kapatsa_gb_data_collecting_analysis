{
 "cells": [
  {
   "cell_type": "markdown",
   "metadata": {},
   "source": [
    "# Lesson 03\n",
    "### Парсинг HTML. BS, SQLAlchemy"
   ]
  },
  {
   "cell_type": "markdown",
   "metadata": {},
   "source": [
    "1. Развернуть у себя на компьютере/виртуальной машине/хостинге MongoDB и реализовать функцию, записывающую собранные вакансии в созданную БД"
   ]
  },
  {
   "cell_type": "markdown",
   "metadata": {},
   "source": [
    "![Image](screenshot.png)"
   ]
  },
  {
   "cell_type": "markdown",
   "metadata": {},
   "source": [
    "2. Написать функцию, которая производит поиск и выводит на экран вакансии с заработной платой больше введенной суммы"
   ]
  },
  {
   "cell_type": "code",
   "execution_count": 1,
   "metadata": {},
   "outputs": [],
   "source": [
    "from scrapingjob import ScrapingJob\n",
    "from pprint import pprint"
   ]
  },
  {
   "cell_type": "code",
   "execution_count": 2,
   "metadata": {},
   "outputs": [],
   "source": [
    "vacancy_db = ScrapingJob('mongodb://172.17.0.2:27017/', 'vacancy', 'vacancy_db')"
   ]
  },
  {
   "cell_type": "code",
   "execution_count": 3,
   "metadata": {},
   "outputs": [
    {
     "name": "stdout",
     "output_type": "stream",
     "text": [
      "{'_id': ObjectId('5d89d0fb97faf8415e0e9914'),\n",
      " 'city': 'Москва',\n",
      " 'company_name': ' DataFork ',\n",
      " 'metro_station': 'Площадь Революции',\n",
      " 'salary_currency': 'RUB',\n",
      " 'salary_max': 400000,\n",
      " 'salary_min': 300000,\n",
      " 'site': 'hh.ru',\n",
      " 'vacancy_link': 'https://hh.ru/vacancy/33498645',\n",
      " 'vacancy_name': 'Data Engineering Team Lead (Python / C++)'}\n",
      "{'_id': ObjectId('5d89d0fb97faf8415e0e9918'),\n",
      " 'city': 'Санкт-Петербург',\n",
      " 'company_name': ' Cindicator ',\n",
      " 'metro_station': 'Гостиный двор',\n",
      " 'salary_currency': 'RUB',\n",
      " 'salary_max': 400000,\n",
      " 'salary_min': None,\n",
      " 'site': 'hh.ru',\n",
      " 'vacancy_link': 'https://hh.ru/vacancy/31182158',\n",
      " 'vacancy_name': 'Python разработчик / Python software developer'}\n",
      "{'_id': ObjectId('5d89d0fb97faf8415e0e9923'),\n",
      " 'city': 'Москва',\n",
      " 'company_name': ' Cindicator ',\n",
      " 'metro_station': None,\n",
      " 'salary_currency': 'RUB',\n",
      " 'salary_max': 400000,\n",
      " 'salary_min': None,\n",
      " 'site': 'hh.ru',\n",
      " 'vacancy_link': 'https://hh.ru/vacancy/33416348',\n",
      " 'vacancy_name': 'Python разработчик / Python software developer'}\n",
      "{'_id': ObjectId('5d89d1830f1be7fa56ae7114'),\n",
      " 'city': 'Нур-Султан',\n",
      " 'company_name': 'ТОО Helios Soft ',\n",
      " 'metro_station': None,\n",
      " 'salary_currency': 'KZT',\n",
      " 'salary_max': 800000,\n",
      " 'salary_min': 300000,\n",
      " 'site': 'hh.ru',\n",
      " 'vacancy_link': 'https://hh.ru/vacancy/33553701',\n",
      " 'vacancy_name': 'Программист Python'}\n"
     ]
    }
   ],
   "source": [
    "vacancy_db.print_salary(300_000)"
   ]
  },
  {
   "cell_type": "markdown",
   "metadata": {},
   "source": [
    "3. \\* Написать функцию, которая будет добавлять в вашу базу данных только новые вакансии с сайта"
   ]
  },
  {
   "cell_type": "code",
   "execution_count": 4,
   "metadata": {},
   "outputs": [
    {
     "data": {
      "text/plain": [
       "<pymongo.results.UpdateResult at 0x7f21bb0ae910>"
      ]
     },
     "execution_count": 4,
     "metadata": {},
     "output_type": "execute_result"
    }
   ],
   "source": [
    "vacancy_db.collection.update_one({'vacancy_link': 'https://hh.ru/vacancy/31828023'}, \n",
    "                                 {'$set': {'city':'Москва', 'company_name':'some compary'}})"
   ]
  },
  {
   "cell_type": "code",
   "execution_count": 5,
   "metadata": {},
   "outputs": [
    {
     "name": "stdout",
     "output_type": "stream",
     "text": [
      "{'_id': ObjectId('5d89d0fa97faf8415e0e98e5'),\n",
      " 'city': 'Москва',\n",
      " 'company_name': 'some compary',\n",
      " 'metro_station': 'Чернышевская',\n",
      " 'salary_currency': None,\n",
      " 'salary_max': None,\n",
      " 'salary_min': None,\n",
      " 'site': 'hh.ru',\n",
      " 'vacancy_link': 'https://hh.ru/vacancy/31828023',\n",
      " 'vacancy_name': 'Программист Python / C++'}\n"
     ]
    }
   ],
   "source": [
    "objects = vacancy_db.collection.find().limit(1)\n",
    "for obj in objects:\n",
    "    pprint(obj)"
   ]
  },
  {
   "cell_type": "code",
   "execution_count": 6,
   "metadata": {},
   "outputs": [],
   "source": [
    "vacancy = 'Python'"
   ]
  },
  {
   "cell_type": "code",
   "execution_count": 7,
   "metadata": {},
   "outputs": [],
   "source": [
    "vacancy_db.search_job(vacancy)"
   ]
  },
  {
   "cell_type": "code",
   "execution_count": 8,
   "metadata": {},
   "outputs": [
    {
     "name": "stdout",
     "output_type": "stream",
     "text": [
      "{'_id': ObjectId('5d89d0fa97faf8415e0e98e5'),\n",
      " 'city': 'Санкт-Петербург',\n",
      " 'company_name': ' LG Electronics Inc. ',\n",
      " 'metro_station': 'Чернышевская',\n",
      " 'salary_currency': None,\n",
      " 'salary_max': None,\n",
      " 'salary_min': None,\n",
      " 'site': 'hh.ru',\n",
      " 'vacancy_link': 'https://hh.ru/vacancy/31828023',\n",
      " 'vacancy_name': 'Программист Python / C++'}\n"
     ]
    }
   ],
   "source": [
    "objects = vacancy_db.collection.find().limit(1)\n",
    "for obj in objects:\n",
    "    pprint(obj)"
   ]
  }
 ],
 "metadata": {
  "kernelspec": {
   "display_name": "Python 3",
   "language": "python",
   "name": "python3"
  },
  "language_info": {
   "codemirror_mode": {
    "name": "ipython",
    "version": 3
   },
   "file_extension": ".py",
   "mimetype": "text/x-python",
   "name": "python",
   "nbconvert_exporter": "python",
   "pygments_lexer": "ipython3",
   "version": "3.7.4"
  }
 },
 "nbformat": 4,
 "nbformat_minor": 4
}
